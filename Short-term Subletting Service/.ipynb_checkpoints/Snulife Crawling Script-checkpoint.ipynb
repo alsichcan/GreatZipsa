{
 "cells": [
  {
   "cell_type": "code",
   "execution_count": 55,
   "metadata": {},
   "outputs": [
    {
     "name": "stdout",
     "output_type": "stream",
     "text": [
      "Requirement already satisfied: selenium in c:\\users\\park\\anaconda3\\lib\\site-packages (4.10.0)\n",
      "Requirement already satisfied: urllib3[socks]<3,>=1.26 in c:\\users\\park\\anaconda3\\lib\\site-packages (from selenium) (1.26.14)\n",
      "Requirement already satisfied: certifi>=2021.10.8 in c:\\users\\park\\anaconda3\\lib\\site-packages (from selenium) (2022.12.7)\n",
      "Requirement already satisfied: trio-websocket~=0.9 in c:\\users\\park\\anaconda3\\lib\\site-packages (from selenium) (0.10.3)\n",
      "Requirement already satisfied: trio~=0.17 in c:\\users\\park\\anaconda3\\lib\\site-packages (from selenium) (0.22.2)\n",
      "Requirement already satisfied: exceptiongroup>=1.0.0rc9 in c:\\users\\park\\anaconda3\\lib\\site-packages (from trio~=0.17->selenium) (1.1.2)\n",
      "Requirement already satisfied: idna in c:\\users\\park\\anaconda3\\lib\\site-packages (from trio~=0.17->selenium) (3.4)\n",
      "Requirement already satisfied: sniffio in c:\\users\\park\\anaconda3\\lib\\site-packages (from trio~=0.17->selenium) (1.2.0)\n",
      "Requirement already satisfied: attrs>=20.1.0 in c:\\users\\park\\anaconda3\\lib\\site-packages (from trio~=0.17->selenium) (22.1.0)\n",
      "Requirement already satisfied: outcome in c:\\users\\park\\anaconda3\\lib\\site-packages (from trio~=0.17->selenium) (1.2.0)\n",
      "Requirement already satisfied: sortedcontainers in c:\\users\\park\\anaconda3\\lib\\site-packages (from trio~=0.17->selenium) (2.4.0)\n",
      "Requirement already satisfied: cffi>=1.14 in c:\\users\\park\\anaconda3\\lib\\site-packages (from trio~=0.17->selenium) (1.15.1)\n",
      "Requirement already satisfied: wsproto>=0.14 in c:\\users\\park\\anaconda3\\lib\\site-packages (from trio-websocket~=0.9->selenium) (1.2.0)\n",
      "Requirement already satisfied: PySocks!=1.5.7,<2.0,>=1.5.6 in c:\\users\\park\\anaconda3\\lib\\site-packages (from urllib3[socks]<3,>=1.26->selenium) (1.7.1)\n",
      "Requirement already satisfied: pycparser in c:\\users\\park\\anaconda3\\lib\\site-packages (from cffi>=1.14->trio~=0.17->selenium) (2.21)\n",
      "Requirement already satisfied: h11<1,>=0.9.0 in c:\\users\\park\\anaconda3\\lib\\site-packages (from wsproto>=0.14->trio-websocket~=0.9->selenium) (0.14.0)\n",
      "Requirement already satisfied: beautifulsoup4 in c:\\users\\park\\anaconda3\\lib\\site-packages (4.11.1)\n",
      "Requirement already satisfied: soupsieve>1.2 in c:\\users\\park\\anaconda3\\lib\\site-packages (from beautifulsoup4) (2.3.2.post1)\n"
     ]
    }
   ],
   "source": [
    "!pip install selenium\n",
    "!pip install beautifulsoup4"
   ]
  },
  {
   "cell_type": "code",
   "execution_count": 100,
   "metadata": {},
   "outputs": [],
   "source": [
    "import selenium\n",
    "from selenium import webdriver as wd\n",
    "import pandas as pd\n",
    "from selenium.webdriver.common.by import By\n",
    "\n",
    "#가상브라우저 사용\n",
    "options = wd.ChromeOptions()\n",
    "options.add_argument('--headless')\n",
    "options.add_argument(\"--no-sandbox\")\n",
    "options.add_argument(\"--disable-dev-shm-usage\")\n",
    "options.add_argument(\"user-agent={Mozilla/5.0 (X11; Linux x86_64) AppleWebKit/537.36 (KHTML, like Gecko) Chrome/85.0.4183.121 Safari/537.36}\")\n",
    "driver = wd.Chrome()"
   ]
  },
  {
   "cell_type": "code",
   "execution_count": 80,
   "metadata": {},
   "outputs": [],
   "source": [
    "import time\n",
    "import random\n",
    "\n",
    "def driver_sleep():\n",
    "    print('.', end='')\n",
    "    time.sleep(random.uniform(1, 3))"
   ]
  },
  {
   "cell_type": "markdown",
   "metadata": {},
   "source": [
    "## Step 1 - 스누라이프 로그인"
   ]
  },
  {
   "cell_type": "code",
   "execution_count": 101,
   "metadata": {},
   "outputs": [],
   "source": [
    "base_url = 'https://snulife.com'\n",
    "\n",
    "# 로그인 정보\n",
    "id=''\n",
    "pw=''\n",
    "\n",
    "driver.get(base_url + '/login') #페이지가 넘어갈 때마다 sleep걸어주어서 서버에 무리가 가지 않게 해야함\n",
    "\n",
    "driver.find_element(By.XPATH, '//*[@id=\"__next\"]/div/div[1]/div/div[2]/form/div[1]/div/input').send_keys(id)\n",
    "driver.find_element(By.XPATH, '//*[@id=\"__next\"]/div/div[1]/div/div[2]/form/div[2]/div/input').send_keys(pw)\n",
    "driver.find_element(By.XPATH, '//*[@id=\"__next\"]/div/div[1]/div/div[2]/button').click()"
   ]
  },
  {
   "cell_type": "markdown",
   "metadata": {},
   "source": [
    "## Step 2 - 복덕방 게시글 링크 수집"
   ]
  },
  {
   "cell_type": "code",
   "execution_count": 98,
   "metadata": {},
   "outputs": [],
   "source": [
    "def get_article(driver, article_url):\n",
    "    try:\n",
    "        driver.get(article_url)\n",
    "        driver_sleep()\n",
    "\n",
    "        html = driver.page_source\n",
    "        soup = BeautifulSoup(html, 'html.parser')\n",
    "\n",
    "        date = soup.select('#__next > div > div.css-b95f0i > div.css-12552bq > div.css-yz6zst > div.css-1yuem47 > article > div.font-caption3.font-grey6.css-1v4w0zm > div:nth-child(1)')[0].text\n",
    "        title = soup.select('#__next > div > div.css-b95f0i > div.css-12552bq > div.css-yz6zst > div.css-1yuem47 > article > div.css-1sg2lsz > h3')[0].text\n",
    "        # post-content 아래의 모든 텍스트를 가져오기\n",
    "        content_section = soup.select_one('#post-content')\n",
    "        if content_section:\n",
    "            content_texts = []\n",
    "\n",
    "            for child in content_section.children:\n",
    "                if isinstance(child, str):  # Text node\n",
    "                    content_texts.append(child.strip())\n",
    "                elif child.name in ['p', 'div']:  # <p> or <div> tag\n",
    "                    content_texts.append(child.get_text())\n",
    "\n",
    "            content = '\\n'.join(content_texts).strip()\n",
    "        else:\n",
    "            content = ''\n",
    "        \n",
    "    except Exception as e:\n",
    "        print(e, article_url)\n",
    "        date = ''\n",
    "        title = ''\n",
    "        content = ''\n",
    "    \n",
    "    return [date, title, content, article_url]"
   ]
  },
  {
   "cell_type": "code",
   "execution_count": 60,
   "metadata": {},
   "outputs": [
    {
     "name": "stdout",
     "output_type": "stream",
     "text": [
      "..............................................................................................................................................................................................................................................................................................................................................................................................................................................................................................................................................................................................................................................................................................................................................................................................................................................................................................................................................................................................................................................................................................................................................................................................................................................................................................................................................................................................................................................................................................................................................................................................................................................................................................................................................................................................................................................................................................................................................................................................................................................................................................................................................................................................................................................................................................................................................................................................................................................................................................................................................................................................................................................................................................................................................................................................................................................................................................................................................................................................................................................................................................................................................................................................................................................................................................................................................................................................................................................................................................................................................................................................................................................................................................................................................................................................................................................................................................................................................................................................................................................................................................................................................................................................................................................................................................................................................................................................................................................................................................................................................................................................................................................................................................................................................................................................................................................................................................................................................................................................................................................................................................................................................................................................................................................................................................................................................................................................................................................................................................................................................................................................................................................................................................................................................................................................................................................................................................................................................................................................................................................................................................................................................................................................................................................................................................................................................................................................................................................................................................................................................................................................................................................................................................................................................................................................................................................................................................................................................................................................................................총 25680개의 게시글 링크 수집 완료!\n"
     ]
    }
   ],
   "source": [
    "import re\n",
    "from bs4 import BeautifulSoup\n",
    "\n",
    "# 복덕방\n",
    "page_num = 330\n",
    "article_list = []\n",
    "\n",
    "while page_num > 0:\n",
    "    # page_num번째 page 이동\n",
    "    page_url = f'/board/housing/?page={page_num}'\n",
    "    target_url = base_url + page_url\n",
    "    driver.get(target_url)\n",
    "\n",
    "    # get articles link from the page\n",
    "    html = driver.page_source\n",
    "    soup = BeautifulSoup(html, 'html.parser')\n",
    "    \n",
    "    a_tags = soup.find_all('a')\n",
    "    for a_tag in a_tags:\n",
    "        if 'href' in a_tag.attrs and a_tag['href'].startswith('/board/housing/view/'):\n",
    "            article_url = base_url + a_tag['href']\n",
    "            article_list.extend(get_article(driver, article_url))\n",
    "    \n",
    "    # decrement page_num\n",
    "    page_num = page_num - 1\n",
    "    driver_sleep()\n",
    "\n",
    "print(f\"총 {len(article_list)}개의 게시글 수집 완료!\")"
   ]
  },
  {
   "cell_type": "markdown",
   "metadata": {},
   "source": [
    "## Step 3 - 엑셀에 데이터 정리"
   ]
  },
  {
   "cell_type": "code",
   "execution_count": 76,
   "metadata": {},
   "outputs": [],
   "source": [
    "from openpyxl import Workbook\n",
    "import pandas as pd\n",
    "\n",
    "wb = Workbook(write_only = True)\n",
    "ws = wb.create_sheet('서울대학교')\n",
    "ws.append(['Date', 'Title', 'Content', 'Link'])\n",
    "\n",
    "for article in articles:\n",
    "    ws.append(article)\n",
    "\n",
    "wb.save('./Snulife.xlsx')\n",
    "# driver.close()"
   ]
  },
  {
   "cell_type": "code",
   "execution_count": null,
   "metadata": {},
   "outputs": [],
   "source": []
  }
 ],
 "metadata": {
  "colab": {
   "collapsed_sections": [],
   "name": "Everytime.ipynb",
   "version": ""
  },
  "kernelspec": {
   "display_name": "Python 3 (ipykernel)",
   "language": "python",
   "name": "python3"
  },
  "language_info": {
   "codemirror_mode": {
    "name": "ipython",
    "version": 3
   },
   "file_extension": ".py",
   "mimetype": "text/x-python",
   "name": "python",
   "nbconvert_exporter": "python",
   "pygments_lexer": "ipython3",
   "version": "3.10.9"
  }
 },
 "nbformat": 4,
 "nbformat_minor": 1
}
